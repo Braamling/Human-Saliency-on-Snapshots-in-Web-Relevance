{
 "cells": [
  {
   "cell_type": "code",
   "execution_count": 1,
   "metadata": {
    "collapsed": true
   },
   "outputs": [],
   "source": [
    "import os\n",
    "import matplotlib.pyplot as plt\n",
    "import pandas as pd\n",
    "import numpy as np\n",
    "import math\n",
    "from preprocessing.contextualFeaturesGenerator.utils.LETORIterator import LETORIterator\n",
    "from scipy.stats import ttest_rel\n",
    "from utils.evaluate import Evaluate \n",
    "%matplotlib inline"
   ]
  },
  {
   "cell_type": "code",
   "execution_count": 32,
   "metadata": {
    "collapsed": true
   },
   "outputs": [],
   "source": [
    "def get_all_LTR_metrics(file, ids, metrics):\n",
    "    results = []\n",
    "    for idx in ids:\n",
    "        df = pd.read_pickle(file.format(idx))\n",
    "        for column in df:\n",
    "            if type(column) is int:\n",
    "                # Get a ranking with the respective scores.\n",
    "                ranking = df[str(column) + \"_s\"].as_matrix()\n",
    "                \n",
    "                # Remove all nans\n",
    "                ranking = [int(x) for x in ranking if not math.isnan(float(x))]\n",
    "                \n",
    "                # Calculate the evaluation scores\n",
    "                scores = Evaluate.compute_scores(ranking)\n",
    "                \n",
    "                # Append all evaluation scores together with its query id in the correct order\n",
    "                results.append([column] + [scores[i] for i in metrics])\n",
    "                \n",
    "    df = pd.DataFrame(results, columns=[\"query_id\"] + metrics)\n",
    "    return df.groupby(\"query_id\", as_index=False).mean().sort_values(by=[\"query_id\"])\n",
    "\n",
    "def get_baseline_df(test_file, score_file, metrics):\n",
    "    queries = []\n",
    "    scores = []\n",
    "    prev_query_id = -1\n",
    "    for i in range(1, 6):\n",
    "        iterator = LETORIterator(test_file.format(i))\n",
    "        with open(score_file.format(i), \"r\") as f:\n",
    "            for line, (d_query_id, doc_id, rel_score, _) in zip(f, iterator.feature_iterator()):\n",
    "                s_query_id, _, score = line.rstrip().split(\"\\t\")\n",
    "                s_query_id, score = int(s_query_id), float(score)\n",
    "\n",
    "                assert int(s_query_id) == int(d_query_id), str(s_query_id) + \" != \" + str(s_query_id)\n",
    "                \n",
    "                if prev_query_id == -1:\n",
    "                    prev_query_id = s_query_id\n",
    "                    \n",
    "                \n",
    "                if s_query_id != prev_query_id:\n",
    "                    prev_query_id = s_query_id\n",
    "                    if len(scores) > 0:\n",
    "                        scores = sorted(scores, key=lambda x: -x[1])\n",
    "                        queries.append((s_query_id, scores))\n",
    "                        scores = []\n",
    "                \n",
    "\n",
    "\n",
    "                scores.append((int(rel_score), score))\n",
    "    if len(scores) > 0:\n",
    "        scores = sorted(scores, key=lambda x: -x[1])\n",
    "        queries.append((s_query_id, scores))\n",
    "        scores = []\n",
    "    \n",
    "    results = []\n",
    "    for query, rank in queries:\n",
    "        ranking = list(zip(*rank))[0]\n",
    "\n",
    "        # Calculate the evaluation scores\n",
    "        scores = Evaluate.compute_scores(ranking)\n",
    "                \n",
    "        # Append all evaluation scores together with its query id in the correct order\n",
    "        results.append([query] + [scores[i] for i in metrics])\n",
    "   \n",
    "    df = pd.DataFrame(results, columns=[\"query_id\"] + metrics)\n",
    "    return df.sort_values(by=[\"query_id\"])\n",
    "\n",
    "def t_test(df_1, df_2, metrics):\n",
    "    results = []\n",
    "    for metric in metrics:\n",
    "        results.append((metric, ttest_rel(df_1[metric], df_2[metric]).pvalue))\n",
    "    return results\n",
    "    "
   ]
  },
  {
   "cell_type": "code",
   "execution_count": 39,
   "metadata": {
    "collapsed": true
   },
   "outputs": [],
   "source": [
    "pickle_path = \"storage/logs\"\n",
    "files = [\"_baseline_masks_{}.pkl\",\n",
    "        \"_ViP_snapshots_{}.pkl\",\n",
    "        \"_ViP_highlights_{}.pkl\",\n",
    "        \"_vgg16_snapshots_{}.pkl\",\n",
    "        \"_vgg16_highlights_{}.pkl\",\n",
    "        \"_vgg16_saliency_{}.pkl\"]\n",
    "metrics = [\"p@1\",\"p@5\",\"p@10\",\"ndcg@1\",\"ndcg@5\",\"ndcg@10\",\"map\"]\n",
    "\n",
    "ids = range(1, 26)\n",
    "vis_dfs = []\n",
    "for file in files: \n",
    "    vis_dfs.append(get_all_LTR_metrics(os.path.join(pickle_path, file), ids, metrics))\n",
    "    \n",
    "rankboost_df = get_baseline_df(\"storage/clueweb12_3.0/Fold{}/vali.txt\", \"storage/baseline/scores/rankboost_{}\", metrics)\n",
    "lambdamart_df = get_baseline_df(\"storage/clueweb12_3.0/Fold{}/vali.txt\", \"storage/baseline/scores/lambdamart_{}\", metrics)\n",
    "adarank_df = get_baseline_df(\"storage/clueweb12_3.0/Fold{}/vali.txt\", \"storage/baseline/scores/adarank_{}\", metrics)\n"
   ]
  },
  {
   "cell_type": "code",
   "execution_count": 89,
   "metadata": {},
   "outputs": [
    {
     "data": {
      "text/plain": [
       "[('p@1', 0.5229026985158312),\n",
       " ('p@5', 0.07163798830855367),\n",
       " ('p@10', 0.29999475587151614),\n",
       " ('ndcg@1', 0.5287174146500103),\n",
       " ('ndcg@5', 0.11507335190971268),\n",
       " ('ndcg@10', 0.1865991412965814),\n",
       " ('map', 0.9679103633345505)]"
      ]
     },
     "execution_count": 89,
     "metadata": {},
     "output_type": "execute_result"
    }
   ],
   "source": [
    "t_test( vis_dfs[1], lambdamart_df, metrics)\n",
    "# t_test( adarank_df, lambdamart_df, metrics)\n"
   ]
  },
  {
   "cell_type": "code",
   "execution_count": 85,
   "metadata": {
    "scrolled": true
   },
   "outputs": [
    {
     "name": "stdout",
     "output_type": "stream",
     "text": [
      "          p@1  p@5  p@10    ndcg@1    ndcg@5   ndcg@10       map\n",
      "query_id                                                        \n",
      "201       0.0  0.4   0.2  0.000000  0.229140  0.182433  0.201106\n",
      "202       0.0  0.4   0.4  0.000000  0.233977  0.289823  0.372414\n",
      "203       1.0  0.8   0.6  0.333333  0.404741  0.351336  0.410726\n",
      "204       1.0  1.0   0.7  0.500000  0.640386  0.553868  0.566210\n",
      "205       0.0  0.0   0.4  0.000000  0.000000  0.128473  0.520961\n",
      "206       0.0  0.0   0.0  0.000000  0.000000  0.000000  0.090196\n",
      "207       0.0  0.4   0.3  0.000000  0.401548  0.319177  0.236394\n",
      "208       1.0  0.6   0.4  1.000000  0.738692  0.537512  0.317768\n",
      "209       0.0  0.4   0.3  0.000000  0.311053  0.287022  0.137244\n",
      "210       1.0  1.0   0.9  0.666667  0.750188  0.763322  0.572791\n",
      "211       0.0  0.2   0.1  0.000000  0.104257  0.104257  0.132553\n",
      "212       0.0  0.2   0.2  0.000000  0.080742  0.108581  0.138118\n",
      "213       1.0  0.6   0.4  0.333333  0.266428  0.242445  0.306290\n",
      "214       0.0  0.0   0.0  0.000000  0.000000  0.000000  0.046057\n",
      "215       0.0  0.6   0.5  0.000000  0.199435  0.184390  0.354461\n",
      "216       1.0  1.0   0.8  0.333333  0.566588  0.497756  0.600055\n",
      "217       1.0  0.6   0.7  0.500000  0.380860  0.424290  0.731734\n",
      "218       0.0  0.0   0.0  0.000000  0.000000  0.000000  0.007143\n",
      "219       0.0  0.2   0.5  0.000000  0.140386  0.284100  0.394261\n",
      "220       0.0  0.4   0.6  0.000000  0.210579  0.338459  0.729346\n",
      "221       0.0  0.0   0.1  0.000000  0.000000  0.057290  0.226436\n",
      "222       1.0  1.0   0.6  0.333333  0.645906  0.513937  0.460382\n",
      "223       0.0  0.6   0.6  0.000000  0.179649  0.250087  0.381791\n",
      "224       1.0  1.0   1.0  1.000000  0.710579  0.703099  0.873432\n",
      "225       0.0  0.4   0.4  0.000000  0.261376  0.333272  0.518349\n",
      "226       1.0  0.2   0.1  0.333333  0.109611  0.079943  0.222457\n",
      "228       0.0  0.6   0.6  0.000000  0.213820  0.296383  0.613757\n",
      "229       0.0  0.2   0.1  0.000000  0.138313  0.100876  0.184318\n",
      "230       0.0  0.0   0.0  0.000000  0.000000  0.000000  0.143422\n",
      "231       1.0  0.4   0.5  0.666667  0.327568  0.431753  0.362232\n",
      "232       0.0  0.2   0.6  0.000000  0.177148  0.246564  0.604768\n",
      "233       0.0  0.4   0.5  0.000000  0.211689  0.293464  0.459909\n",
      "234       0.0  0.0   0.0  0.000000  0.000000  0.000000  0.174843\n",
      "235       1.0  0.2   0.1  1.000000  0.355425  0.308951  0.172998\n",
      "236       0.0  0.0   0.0  0.000000  0.000000  0.000000  0.011999\n",
      "237       1.0  0.4   0.6  1.000000  0.350965  0.457802  0.468755\n",
      "238       0.0  0.2   0.1  0.000000  0.280772  0.190313  0.190507\n",
      "239       0.0  0.4   0.2  0.000000  0.246231  0.181977  0.337600\n",
      "240       1.0  1.0   0.9  0.333333  0.409291  0.513940  0.566610\n",
      "241       0.0  0.8   0.9  0.000000  0.460587  0.586463  0.858533\n",
      "242       0.0  0.0   0.2  0.000000  0.000000  0.035595  0.224608\n",
      "243       0.0  0.0   0.1  0.000000  0.000000  0.042036  0.123407\n",
      "244       0.0  0.6   0.7  0.000000  0.342337  0.458493  0.767717\n",
      "245       1.0  0.4   0.6  1.000000  0.421158  0.514193  0.676640\n",
      "246       0.0  0.6   0.6  0.000000  0.345587  0.425512  0.431396\n",
      "247       1.0  0.2   0.2  0.500000  0.140386  0.126876  0.262285\n",
      "248       0.0  0.2   0.2  0.000000  0.187181  0.154364  0.349149\n",
      "249       0.0  0.8   0.6  0.000000  0.325157  0.298532  0.701852\n",
      "250       0.0  0.4   0.3  0.000000  0.223522  0.196400  0.162029\n",
      "251       0.0  0.4   0.5  0.000000  0.246208  0.311425  0.407756\n",
      "252       1.0  1.0   0.9  0.333333  0.542377  0.530548  0.735718\n",
      "253       0.0  0.4   0.4  0.000000  0.263370  0.285010  0.486440\n",
      "254       1.0  0.6   0.6  1.000000  0.448490  0.372280  0.698314\n",
      "255       1.0  0.8   0.9  0.500000  0.421973  0.526164  0.714963\n",
      "256       1.0  0.4   0.3  0.500000  0.293248  0.278142  0.493688\n",
      "257       1.0  0.8   0.9  0.500000  0.457466  0.566995  0.381116\n",
      "258       0.0  0.8   0.9  0.000000  0.359614  0.482582  0.671718\n",
      "259       1.0  1.0   0.7  0.666667  0.444855  0.382615  0.923017\n",
      "260       0.0  0.0   0.0  0.000000  0.000000  0.000000  0.136390\n",
      "261       0.0  0.6   0.5  0.000000  0.274284  0.247587  0.440004\n",
      "262       0.0  0.6   0.6  0.000000  0.219228  0.242857  0.460928\n",
      "263       1.0  0.8   0.4  0.500000  0.658767  0.446526  0.495407\n",
      "264       0.0  0.0   0.0  0.000000  0.000000  0.000000  0.055393\n",
      "265       1.0  0.8   0.6  0.666667  0.508534  0.452662  0.301109\n",
      "266       0.0  0.6   0.5  0.000000  0.305333  0.304900  0.302556\n",
      "267       0.0  0.0   0.0  0.000000  0.000000  0.000000  0.057051\n",
      "268       1.0  0.6   0.4  0.666667  0.321080  0.280277  0.617315\n",
      "269       1.0  0.6   0.6  0.500000  0.347144  0.412048  0.405930\n",
      "270       0.0  0.0   0.0  0.000000  0.000000  0.000000  0.005376\n",
      "271       1.0  0.8   0.8  0.333333  0.345587  0.431985  0.717127\n",
      "272       0.0  0.0   0.0  0.000000  0.000000  0.000000  0.211494\n",
      "273       0.0  0.6   0.5  0.000000  0.277013  0.335490  0.439200\n",
      "274       1.0  0.8   0.7  0.333333  0.423505  0.432548  0.634586\n",
      "275       1.0  1.0   0.9  0.666667  0.654413  0.597295  0.774345\n",
      "276       1.0  0.6   0.7  0.500000  0.369346  0.390919  0.727029\n",
      "277       1.0  0.2   0.1  0.333333  0.102521  0.082034  0.254327\n",
      "278       1.0  0.2   0.4  0.500000  0.140386  0.211870  0.495756\n",
      "279       0.0  0.2   0.2  0.000000  0.123104  0.148789  0.399900\n",
      "280       0.0  0.0   0.0  0.000000  0.000000  0.000000  0.164253\n",
      "281       0.0  0.8   0.6  0.000000  0.719228  0.618421  0.629159\n",
      "282       1.0  0.2   0.1  1.000000  0.280772  0.190313  0.193467\n",
      "283       0.0  0.0   0.0  0.000000  0.000000  0.000000  0.183801\n",
      "284       0.0  0.0   0.0  0.000000  0.000000  0.000000  0.133869\n",
      "285       1.0  1.0   1.0  0.500000  0.566822  0.597071  0.792521\n",
      "285       0.0  0.0   0.2  0.000000  0.000000  0.098568  0.542574\n",
      "286       1.0  1.0   1.0  0.500000  0.780779  0.840115  0.734389\n",
      "287       0.0  0.4   0.6  0.000000  0.232726  0.392272  0.625168\n",
      "288       1.0  0.8   0.9  0.333333  0.376896  0.439267  0.688272\n",
      "289       1.0  1.0   0.6  0.333333  0.380129  0.280256  0.617570\n",
      "290       0.0  0.4   0.4  0.000000  0.200847  0.202969  0.271823\n",
      "291       0.0  0.0   0.0  0.000000  0.000000  0.000000  0.086790\n",
      "292       1.0  0.8   0.4  0.333333  0.485251  0.328913  0.354746\n",
      "293       1.0  0.8   0.7  0.333333  0.249812  0.259115  0.663875\n",
      "294       1.0  1.0   0.7  0.666667  0.623962  0.537247  0.705205\n",
      "295       1.0  0.8   0.7  0.500000  0.429807  0.386965  0.470449\n",
      "296       1.0  1.0   1.0  0.666667  0.607617  0.605496  0.884139\n",
      "297       0.0  0.0   0.4  0.000000  0.000000  0.185279  0.590382\n",
      "298       0.0  0.2   0.1  0.000000  0.123104  0.086889  0.379698\n",
      "299       0.0  0.2   0.1  0.000000  0.053996  0.039898  0.080222\n",
      "300       1.0  1.0   0.9  0.500000  0.658767  0.609792  0.625609\n"
     ]
    }
   ],
   "source": [
    "with pd.option_context('display.max_rows', None, 'display.max_columns', 7):\n",
    "    print(lambdamart_df)"
   ]
  },
  {
   "cell_type": "code",
   "execution_count": 37,
   "metadata": {},
   "outputs": [
    {
     "data": {
      "text/plain": [
       "query_id    250.690000\n",
       "p@1           0.440000\n",
       "p@5           0.442000\n",
       "p@10          0.467000\n",
       "ndcg@1        0.242500\n",
       "ndcg@5        0.268343\n",
       "ndcg@10       0.293948\n",
       "map           0.433493\n",
       "dtype: float64"
      ]
     },
     "execution_count": 37,
     "metadata": {},
     "output_type": "execute_result"
    }
   ],
   "source": [
    "lambdamart_same_df.mean()"
   ]
  },
  {
   "cell_type": "code",
   "execution_count": 144,
   "metadata": {},
   "outputs": [
    {
     "data": {
      "text/plain": [
       "query_id    250.500000\n",
       "p@1           0.560000\n",
       "p@5           0.546800\n",
       "p@10          0.519800\n",
       "ndcg@1        0.322500\n",
       "ndcg@5        0.336874\n",
       "ndcg@10       0.346342\n",
       "map           0.455765\n",
       "dtype: float64"
      ]
     },
     "execution_count": 144,
     "metadata": {},
     "output_type": "execute_result"
    }
   ],
   "source": [
    "vis_dfs[5].mean()"
   ]
  },
  {
   "cell_type": "code",
   "execution_count": null,
   "metadata": {
    "collapsed": true
   },
   "outputs": [],
   "source": []
  },
  {
   "cell_type": "code",
   "execution_count": null,
   "metadata": {
    "collapsed": true
   },
   "outputs": [],
   "source": []
  }
 ],
 "metadata": {
  "kernelspec": {
   "display_name": "Python 3",
   "language": "python",
   "name": "python3"
  },
  "language_info": {
   "codemirror_mode": {
    "name": "ipython",
    "version": 3
   },
   "file_extension": ".py",
   "mimetype": "text/x-python",
   "name": "python",
   "nbconvert_exporter": "python",
   "pygments_lexer": "ipython3",
   "version": "3.6.3"
  }
 },
 "nbformat": 4,
 "nbformat_minor": 2
}
